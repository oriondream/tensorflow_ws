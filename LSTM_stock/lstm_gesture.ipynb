{
 "cells": [
  {
   "cell_type": "code",
   "execution_count": 1,
   "metadata": {},
   "outputs": [
    {
     "name": "stderr",
     "output_type": "stream",
     "text": [
      "2023-02-23 14:39:49.730900: I tensorflow/core/platform/cpu_feature_guard.cc:193] This TensorFlow binary is optimized with oneAPI Deep Neural Network Library (oneDNN) to use the following CPU instructions in performance-critical operations:  AVX2 FMA\n",
      "To enable them in other operations, rebuild TensorFlow with the appropriate compiler flags.\n"
     ]
    }
   ],
   "source": [
    "import datetime\n",
    "import math\n",
    "import numpy as np\n",
    "from sklearn.preprocessing import MinMaxScaler\n",
    "from keras.models import Sequential\n",
    "from keras.layers import Dense, LSTM, Conv1D, Dropout, BatchNormalization, PReLU, Softmax\n",
    "import matplotlib.pyplot as plt"
   ]
  },
  {
   "attachments": {},
   "cell_type": "markdown",
   "metadata": {},
   "source": [
    "* Sampling delay: 25ms\n",
    "* Sliding window size: 260ms -> 52 sampling points\n",
    "* Incremental: 25ms"
   ]
  },
  {
   "cell_type": "code",
   "execution_count": 2,
   "metadata": {},
   "outputs": [
    {
     "name": "stderr",
     "output_type": "stream",
     "text": [
      "2023-02-23 14:39:54.887127: I tensorflow/core/platform/cpu_feature_guard.cc:193] This TensorFlow binary is optimized with oneAPI Deep Neural Network Library (oneDNN) to use the following CPU instructions in performance-critical operations:  AVX2 FMA\n",
      "To enable them in other operations, rebuild TensorFlow with the appropriate compiler flags.\n"
     ]
    },
    {
     "ename": "NameError",
     "evalue": "name 'x_train' is not defined",
     "output_type": "error",
     "traceback": [
      "\u001b[0;31m---------------------------------------------------------------------------\u001b[0m",
      "\u001b[0;31mNameError\u001b[0m                                 Traceback (most recent call last)",
      "Cell \u001b[0;32mIn[2], line 2\u001b[0m\n\u001b[1;32m      1\u001b[0m model \u001b[39m=\u001b[39m Sequential()\n\u001b[0;32m----> 2\u001b[0m model\u001b[39m.\u001b[39madd(LSTM(\u001b[39m52\u001b[39m, return_sequences\u001b[39m=\u001b[39m\u001b[39mTrue\u001b[39;00m, input_shape \u001b[39m=\u001b[39m (x_train\u001b[39m.\u001b[39mshape[\u001b[39m1\u001b[39m], \u001b[39m1\u001b[39m)))\n\u001b[1;32m      3\u001b[0m model\u001b[39m.\u001b[39madd(LSTM(\u001b[39m52\u001b[39m, return_sequences\u001b[39m=\u001b[39m\u001b[39mFalse\u001b[39;00m))\n\u001b[1;32m      4\u001b[0m model\u001b[39m.\u001b[39madd(Conv1D(\u001b[39m65\u001b[39m, (\u001b[39m3\u001b[39m,\u001b[39m1\u001b[39m), strides\u001b[39m=\u001b[39m\u001b[39m1\u001b[39m))              \u001b[39m# TODO: should be PReLU as in original \u001b[39;00m\n",
      "\u001b[0;31mNameError\u001b[0m: name 'x_train' is not defined"
     ]
    }
   ],
   "source": [
    "model = Sequential()\n",
    "model.add(LSTM(52, return_sequences=True, input_shape = (x_train.shape[1], 1)))\n",
    "model.add(LSTM(52, return_sequences=False))\n",
    "model.add(Conv1D(65, (3,1), strides=1))              # TODO: should be PReLU as in original \n",
    "model.add(PReLU())\n",
    "model.add(BatchNormalization())\n",
    "model.add(Dropout(0.3))                 # Avoid overfitting\n",
    "model.add(Conv1D(30, (3,1), strides=1))\n",
    "model.add(BatchNormalization())\n",
    "model.add(PReLU())\n",
    "model.add(Softmax())"
   ]
  }
 ],
 "metadata": {
  "kernelspec": {
   "display_name": ".venv",
   "language": "python",
   "name": "python3"
  },
  "language_info": {
   "codemirror_mode": {
    "name": "ipython",
    "version": 3
   },
   "file_extension": ".py",
   "mimetype": "text/x-python",
   "name": "python",
   "nbconvert_exporter": "python",
   "pygments_lexer": "ipython3",
   "version": "3.9.6"
  },
  "orig_nbformat": 4,
  "vscode": {
   "interpreter": {
    "hash": "f28d646c226743cda6c1b48a75ea6b86de8fb172bfdedbd54d37d7e18b0d1f73"
   }
  }
 },
 "nbformat": 4,
 "nbformat_minor": 2
}
